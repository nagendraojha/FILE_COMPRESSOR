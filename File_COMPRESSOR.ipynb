{
 "cells": [
  {
   "cell_type": "code",
   "execution_count": null,
   "id": "95f62cd9-ca00-4f41-a018-96a4e939b698",
   "metadata": {},
   "outputs": [],
   "source": [
    "pip install pillow PyMuPDF\n"
   ]
  },
  {
   "cell_type": "code",
   "execution_count": null,
   "id": "233fdb74-14d2-44ae-b61e-36ea51f7f318",
   "metadata": {},
   "outputs": [],
   "source": [
    "import sys\n",
    "import argparse\n",
    "import gzip\n",
    "import os\n",
    "import shutil\n",
    "import threading\n",
    "\n",
    "\n"
   ]
  },
  {
   "cell_type": "code",
   "execution_count": null,
   "id": "6a060b99-4cbd-45b0-8d3f-dbf4a4008afb",
   "metadata": {},
   "outputs": [],
   "source": []
  },
  {
   "cell_type": "code",
   "execution_count": null,
   "id": "85c4321e-8285-427f-ab0e-225dd23329bd",
   "metadata": {},
   "outputs": [],
   "source": []
  },
  {
   "cell_type": "code",
   "execution_count": null,
   "id": "ec9bf5d3-1580-4534-9a46-82e4f1616913",
   "metadata": {},
   "outputs": [],
   "source": [
    "import os\n",
    "import gzip\n",
    "from tkinter import Tk, filedialog, Label, Button\n",
    "from PIL import Image\n",
    "import shutil\n",
    "\n",
    "# Automatically compress files based on their type (as much as possible)\n",
    "def compress_file(input_path, output_path):\n",
    "    try:\n",
    "        # Handle images (e.g., PNG, JPG, etc.)\n",
    "        if input_path.lower().endswith(('png', 'jpg', 'jpeg', 'bmp', 'gif')):\n",
    "            img = Image.open(input_path)\n",
    "            img.save(output_path, optimize=True, quality=50)  # Maximize compression for images\n",
    "            print(f\"Image compressed and saved: {output_path}\")\n",
    "\n",
    "        # Handle text files (e.g., .txt, .csv)\n",
    "        elif input_path.lower().endswith(('txt', 'csv', 'log')):\n",
    "            with open(input_path, 'rb') as f:\n",
    "                content = f.read()\n",
    "                # Apply maximum gzip compression\n",
    "                with gzip.open(output_path + '.gz', 'wb') as f_out:\n",
    "                    f_out.write(content)\n",
    "                print(f\"Text file compressed and saved: {output_path}.gz\")\n",
    "\n",
    "        # Handle other binary files (e.g., PDFs, executables, etc.)\n",
    "        else:\n",
    "            with open(input_path, 'rb') as f_in:\n",
    "                content = f_in.read()\n",
    "                # Apply gzip compression to binary files\n",
    "                with gzip.open(output_path + '.gz', 'wb') as f_out:\n",
    "                    f_out.write(content)\n",
    "                print(f\"Binary file compressed and saved: {output_path}.gz\")\n",
    "\n",
    "    except Exception as e:\n",
    "        print(f\"Error compressing file: {e}\")\n",
    "\n",
    "# GUI function to select file and compress it\n",
    "def upload_and_compress():\n",
    "    file_path = filedialog.askopenfilename(title=\"Select a File\", filetypes=[(\"All Files\", \"*.*\")])\n",
    "    if not file_path:\n",
    "        print(\"No file selected.\")\n",
    "        return\n",
    "\n",
    "    # Create the output path in the Downloads folder\n",
    "    base_name = os.path.basename(file_path)\n",
    "    output_path = os.path.join(os.path.expanduser(\"~\"), \"Downloads\", base_name)\n",
    "\n",
    "    # Compress the file automatically\n",
    "    compress_file(file_path, output_path)\n",
    "\n",
    "# Create the Tkinter window\n",
    "root = Tk()\n",
    "root.title(\"File Compressor\")\n",
    "\n",
    "# Create a label for instructions\n",
    "label = Label(root, text=\"Upload a file and it will be compressed automatically.\")\n",
    "label.pack(padx=20, pady=10)\n",
    "\n",
    "# Create a button for file upload\n",
    "upload_button = Button(root, text=\"Upload File and Compress\", command=upload_and_compress)\n",
    "upload_button.pack(padx=20, pady=20)\n",
    "\n",
    "# Run the Tkinter window\n",
    "root.mainloop()\n"
   ]
  },
  {
   "cell_type": "code",
   "execution_count": null,
   "id": "bec7df4c-6db4-4591-92e8-664038d0ada0",
   "metadata": {},
   "outputs": [],
   "source": []
  },
  {
   "cell_type": "code",
   "execution_count": null,
   "id": "04785b8d-f554-488a-9b83-6f18a8f2ebb4",
   "metadata": {},
   "outputs": [],
   "source": []
  }
 ],
 "metadata": {
  "kernelspec": {
   "display_name": "Python [conda env:base] *",
   "language": "python",
   "name": "conda-base-py"
  },
  "language_info": {
   "codemirror_mode": {
    "name": "ipython",
    "version": 3
   },
   "file_extension": ".py",
   "mimetype": "text/x-python",
   "name": "python",
   "nbconvert_exporter": "python",
   "pygments_lexer": "ipython3",
   "version": "3.12.7"
  }
 },
 "nbformat": 4,
 "nbformat_minor": 5
}
